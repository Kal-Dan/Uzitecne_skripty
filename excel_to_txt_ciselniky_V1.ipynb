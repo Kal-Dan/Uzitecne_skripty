{
 "cells": [
  {
   "cell_type": "code",
   "execution_count": 2,
   "id": "f0f3466b",
   "metadata": {},
   "outputs": [
    {
     "name": "stdout",
     "output_type": "stream",
     "text": [
      "Conversion complete for KodyBasilejske. Output saved in KodyBasilejske.txt.\n"
     ]
    }
   ],
   "source": [
    "import pandas as pd\n",
    "import uuid\n",
    "\n",
    "path_to_excel = r\"C:\\Users\\daniel.kaliba\\Documents\\mzp_local\\KodyBasilejske.xlsx\"\n",
    "\n",
    "\n",
    "# Open the Excel file\n",
    "excel_file = pd.ExcelFile(path_to_excel)\n",
    "\n",
    "# Loop through each sheet in the Excel file\n",
    "for sheet_name in excel_file.sheet_names:\n",
    "    # Load the sheet into a DataFrame\n",
    "    df = pd.read_excel(excel_file, sheet_name)\n",
    "\n",
    "    # Create a txt file for the sheet\n",
    "    output_filename = f'{sheet_name}.txt'\n",
    "    with open(output_filename, 'w') as txtfile:\n",
    "        # For each line, except the first\n",
    "        for i, row in df.iterrows():\n",
    "            if i != 0:\n",
    "                # Each line starts with < literal, and ends with />\n",
    "                txtfile.write('<literal id=\"' + str(uuid.uuid4().hex) + '\" ')\n",
    "                for column_name, value in row.items():\n",
    "                    # Skip any empty cells\n",
    "                    if pd.isna(value):\n",
    "                        continue\n",
    "                    # Separators ; are replaced by a space\n",
    "                    value = str(value).replace(';', ' ')\n",
    "                    # Insert each value in quotation marks\n",
    "                    value = '\"' + value + '\"'\n",
    "                    # The value is preceded by the name of just one column\n",
    "                    txtfile.write(column_name + '=' + value)\n",
    "                    # Add space after each attribute\n",
    "                    if column_name != df.columns[-1]:\n",
    "                        txtfile.write(' ')\n",
    "                txtfile.write(' />\\n')\n",
    "\n",
    "    # Print message to indicate completion of the script\n",
    "    print(f'Conversion complete for {sheet_name}. Output saved in {output_filename}.')\n"
   ]
  },
  {
   "cell_type": "code",
   "execution_count": null,
   "id": "63753898",
   "metadata": {},
   "outputs": [],
   "source": []
  }
 ],
 "metadata": {
  "kernelspec": {
   "display_name": "Python 3 (ipykernel)",
   "language": "python",
   "name": "python3"
  },
  "language_info": {
   "codemirror_mode": {
    "name": "ipython",
    "version": 3
   },
   "file_extension": ".py",
   "mimetype": "text/x-python",
   "name": "python",
   "nbconvert_exporter": "python",
   "pygments_lexer": "ipython3",
   "version": "3.9.12"
  }
 },
 "nbformat": 4,
 "nbformat_minor": 5
}
